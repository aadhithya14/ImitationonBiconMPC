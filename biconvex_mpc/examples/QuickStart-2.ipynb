{
 "cells": [
  {
   "cell_type": "markdown",
   "metadata": {},
   "source": [
    "##                                                              Generating Cyclic Motions\n",
    "\n",
    "In this tutorial, we will see how to generate a trot gait for solo12 (quadruped robot) using the BiConMP framework. The same ideas can be used to generate arbitrary gaits that you desire !!!\n",
    "\n",
    "Firstly we import all the neccesary packages to setup the example :-)"
   ]
  },
  {
   "cell_type": "code",
   "execution_count": 11,
   "metadata": {},
   "outputs": [
    {
     "name": "stdout",
     "output_type": "stream",
     "text": [
      "The autoreload extension is already loaded. To reload it, use:\n",
      "  %reload_ext autoreload\n"
     ]
    }
   ],
   "source": [
    "%load_ext autoreload\n",
    "%autoreload 2\n",
    "\n",
    "import time\n",
    "import numpy as np\n",
    "import pinocchio as pin\n",
    "from matplotlib import pyplot as plt\n",
    "%matplotlib notebook \n",
    "\n",
    "from robot_properties_solo.config import Solo12Config\n",
    "from mpc.abstract_cyclic_gen import SoloMpcGaitGen\n",
    "from motions.weight_abstract import BiconvexMotionParams\n",
    "# from solo12_gait_params import trot, walk\n"
   ]
  },
  {
   "cell_type": "markdown",
   "metadata": {},
   "source": [
    "Now that we have imported all the packages that we need, we initialize the meshcat using the pinocciho meshcat wrapper below. We will use meshcat to visualize the final motion/trajectory obtained from the BiConMP framework. "
   ]
  },
  {
   "cell_type": "code",
   "execution_count": 12,
   "metadata": {},
   "outputs": [
    {
     "name": "stdout",
     "output_type": "stream",
     "text": [
      "You can open the visualizer by visiting the following URL:\n",
      "http://127.0.0.1:7002/static/\n"
     ]
    }
   ],
   "source": [
    "robot = Solo12Config.buildRobotWrapper()\n",
    "viz = pin.visualize.MeshcatVisualizer(robot.model, robot.collision_model, robot.visual_model)\n",
    "viz.initViewer(open=False)\n",
    "viz.loadViewerModel()\n",
    "pin_robot = Solo12Config.buildRobotWrapper()\n"
   ]
  },
  {
   "cell_type": "markdown",
   "metadata": {},
   "source": [
    "### Biconvex Motion Params\n",
    "\n",
    "To be written ...."
   ]
  },
  {
   "cell_type": "code",
   "execution_count": 34,
   "metadata": {},
   "outputs": [],
   "source": [
    "bound = BiconvexMotionParams(\"solo12\", \"Bound\")\n",
    "# \n",
    "# Cnt\n",
    "bound.gait_period = 0.3\n",
    "bound.stance_percent = [0.5, 0.5, 0.5, 0.5]\n",
    "bound.gait_dt = 0.05\n",
    "bound.phase_offset = [0.0, 0.0, 0.5, 0.5]\n",
    "# \n",
    "# IK\n",
    "bound.state_wt = np.array([0., 0, 1e3] + [10, 10, 10] + [50.0] * (pin_robot.model.nv - 6) \\\n",
    "                        + [0.00] * 3 + [100, 10, 100] + [0.5] *(pin_robot.model.nv - 6))\n",
    "# \n",
    "bound.ctrl_wt = [0.5, 0.5, 0.5] + [1, 1, 1] + [0.5] *(pin_robot.model.nv - 6)\n",
    "# \n",
    "bound.swing_wt = [1e4, 1e4]\n",
    "bound.cent_wt = [5e+1, 5e+2]\n",
    "bound.step_ht = 0.07\n",
    "bound.reg_wt = [7e-3, 7e-5]\n",
    "# \n",
    "# Dyn \n",
    "bound.W_X =        np.array([1e-5, 1e-5, 5e+4, 1e1, 1e1, 1e+3, 5e+3, 1e+4, 5e+3])\n",
    "bound.W_X_ter = 10*np.array([1e-5, 1e-5, 5e+4, 1e1, 1e1, 1e+3, 1e+4, 1e+4, 1e+4])\n",
    "bound.W_F = np.array(4*[1e1, 1e+1, 1.5e+1])\n",
    "bound.nom_ht = 0.25\n",
    "bound.rho = 5e+4\n",
    "bound.ori_correction = [0.2, 0.8, 0.8]\n",
    "bound.gait_horizon = 20.5\n",
    "# \n",
    "# Gains\n",
    "bound.kp = 3.0\n",
    "bound.kd = 0.05\n"
   ]
  },
  {
   "cell_type": "code",
   "execution_count": 35,
   "metadata": {},
   "outputs": [
    {
     "name": "stdout",
     "output_type": "stream",
     "text": [
      "Initialized Kino-Dyn planner\n"
     ]
    }
   ],
   "source": [
    "## Motion\n",
    "gait_params = bound\n",
    "\n",
    "## robot config and init\n",
    "urdf_path = Solo12Config.urdf_path\n",
    "gait_time = gait_params.gait_period\n",
    "dt = 5e-2\n",
    "\n",
    "n_eff = 4\n",
    "q0 = np.array(Solo12Config.initial_configuration)\n",
    "# q0[7:13] = 2 * [0.0, -0.8, 1.6]\n",
    "\n",
    "v0 = pin.utils.zero(pin_robot.model.nv)\n",
    "x0 = np.concatenate([q0, pin.utils.zero(pin_robot.model.nv)])\n",
    "\n",
    "w_des = 0.0\n",
    "v_des = np.array([-0.4,0.0, 0])\n",
    "\n",
    "update_time = 0.02 # sec (time of lag)\n",
    "\n",
    "n = 1\n",
    "\n",
    "sim_t = 0.0\n",
    "step_t = 0\n",
    "sim_dt = .001\n",
    "\n",
    "gg = SoloMpcGaitGen(pin_robot, urdf_path, x0, plan_freq, q0, None)\n",
    "gg.update_gait_params(gait_params, sim_t)"
   ]
  },
  {
   "cell_type": "code",
   "execution_count": 16,
   "metadata": {},
   "outputs": [
    {
     "data": {
      "text/html": [
       "\n",
       "            <div style=\"height: 400px; width: 100%; overflow-x: auto; overflow-y: hidden; resize: both\">\n",
       "            <iframe src=\"http://127.0.0.1:7002/static/\" style=\"width: 100%; height: 100%; border: none\"></iframe>\n",
       "            </div>\n",
       "            "
      ],
      "text/plain": [
       "<IPython.core.display.HTML object>"
      ]
     },
     "execution_count": 16,
     "metadata": {},
     "output_type": "execute_result"
    }
   ],
   "source": [
    "viz.viewer.jupyter_cell()"
   ]
  },
  {
   "cell_type": "code",
   "execution_count": 36,
   "metadata": {
    "scrolled": false
   },
   "outputs": [
    {
     "name": "stdout",
     "output_type": "stream",
     "text": [
      "Maximum iterations reached \n",
      "Final norm: 0.000941171\n"
     ]
    }
   ],
   "source": [
    "%matplotlib notebook \n",
    "\n",
    "q = q0\n",
    "v = v0\n",
    "step_t = 0\n",
    "n = 0\n",
    "\n",
    "xs_plan, us_plan, f_plan = gg.optimize(q, v, np.round(sim_t,3), v_des, w_des)\n",
    "\n",
    "for ind in range(int(plan_freq/sim_dt)):\n",
    "    viz.display(xs_plan[ind][:robot.model.nq])"
   ]
  }
 ],
 "metadata": {
  "kernelspec": {
   "display_name": "Python 3 (ipykernel)",
   "language": "python",
   "name": "python3"
  },
  "language_info": {
   "codemirror_mode": {
    "name": "ipython",
    "version": 3
   },
   "file_extension": ".py",
   "mimetype": "text/x-python",
   "name": "python",
   "nbconvert_exporter": "python",
   "pygments_lexer": "ipython3",
   "version": "3.8.10"
  }
 },
 "nbformat": 4,
 "nbformat_minor": 4
}
