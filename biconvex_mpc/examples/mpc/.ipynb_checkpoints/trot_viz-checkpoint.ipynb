{
 "cells": [
  {
   "cell_type": "code",
   "execution_count": 1,
   "metadata": {},
   "outputs": [
    {
     "name": "stdout",
     "output_type": "stream",
     "text": [
      "solo import \n"
     ]
    }
   ],
   "source": [
    "# This file plays the mpc motion only in viz\n",
    "%load_ext autoreload\n",
    "%autoreload 2\n",
    "\n",
    "import time\n",
    "import numpy as np\n",
    "import pinocchio as pin\n",
    "import crocoddyl\n",
    "from matplotlib import pyplot as plt\n",
    "%matplotlib notebook \n",
    "\n",
    "from py_biconvex_mpc.motion_planner.cpp_biconvex import BiConvexMP\n",
    "from py_biconvex_mpc.ik_utils.gait_generator import GaitGenerator\n",
    "from robot_properties_solo.config import Solo12Config\n",
    "from abstract_mpc_gait_gen import SoloMpcGaitGen\n",
    "from weight_abstract import BiconvexMotionParams\n",
    "# from solo12_gait_params import trot, walk\n"
   ]
  },
  {
   "cell_type": "code",
   "execution_count": 2,
   "metadata": {},
   "outputs": [
    {
     "name": "stdout",
     "output_type": "stream",
     "text": [
      "You can open the visualizer by visiting the following URL:\n",
      "http://127.0.0.1:7000/static/\n"
     ]
    }
   ],
   "source": [
    "robot = Solo12Config.buildRobotWrapper()\n",
    "viz = pin.visualize.MeshcatVisualizer(robot.model, robot.collision_model, robot.visual_model)\n",
    "viz.initViewer(open=False)\n",
    "viz.loadViewerModel()\n",
    "pin_robot = Solo12Config.buildRobotWrapper()\n"
   ]
  },
  {
   "cell_type": "code",
   "execution_count": 44,
   "metadata": {},
   "outputs": [],
   "source": [
    "bound = BiconvexMotionParams(\"solo12\", \"bound\")\n",
    "\n",
    "# Cnt\n",
    "bound.gait_period = 0.3\n",
    "bound.stance_percent = [0.5, 0.5, 0.5, 0.5]\n",
    "bound.gait_dt = 0.05\n",
    "bound.phase_offset = [0.0, 0.0, 0.5, 0.5]\n",
    "\n",
    "# IK\n",
    "bound.state_wt = np.array([0., 0, 1e3] + [10, 10, 10] + [10.0] * (pin_robot.model.nv - 6) \\\n",
    "                        + [0.00] * 3 + [100, 10, 100] + [0.5] *(pin_robot.model.nv - 6))\n",
    "\n",
    "bound.ctrl_wt = [0.5, 0.5, 0.5] + [1, 1, 1] + [0.5] *(pin_robot.model.nv - 6)\n",
    "\n",
    "bound.swing_wt = [1e4, 1e4]\n",
    "bound.cent_wt = [5e+1, 1e+2]\n",
    "bound.step_ht = 0.07\n",
    "bound.reg_wt = [7e-3, 7e-5]\n",
    "\n",
    "# Dyn \n",
    "bound.W_X =        np.array([1e-5, 1e-5, 1e+4, 1e1, 1e1, 1e+3, 1e+4, 1e+4, 1e+4])\n",
    "bound.W_X_ter = 10*np.array([1e-5, 1e-5, 1e+5, 1e1, 1e1, 1e+3, 1e+4, 1e+4, 1e+4])\n",
    "bound.W_F = np.array(4*[1e+2, 1e+2, 1e+2])\n",
    "bound.nom_ht = 0.2\n",
    "bound.rho = 5e+4\n",
    "bound.ori_correction = [0.0, 0.0, 0.0]\n",
    "bound.gait_horizon = 5.0\n",
    "\n",
    "# Gains\n",
    "bound.kp = 3.0\n",
    "bound.kd = 0.05"
   ]
  },
  {
   "cell_type": "code",
   "execution_count": 45,
   "metadata": {},
   "outputs": [],
   "source": [
    "## Motion\n",
    "gait_params = bound\n",
    "\n",
    "## robot config and init\n",
    "urdf_path = Solo12Config.urdf_path\n",
    "gait_time = gait_params.gait_period\n",
    "dt = 5e-2\n",
    "\n",
    "n_eff = 4\n",
    "q0 = np.array(Solo12Config.initial_configuration)\n",
    "# q0[7:13] = 2 * [0.0, -0.8, 1.6]\n",
    "\n",
    "v0 = pin.utils.zero(pin_robot.model.nv)\n",
    "x0 = np.concatenate([q0, pin.utils.zero(pin_robot.model.nv)])\n",
    "\n",
    "v_des = np.array([0.5,0.0, 0])\n",
    "step_height = gait_params.step_ht\n",
    "\n",
    "plan_freq = 0.8*(gait_params.gait_horizon*gait_params.gait_period*0.5) - dt #0.05 # sec\n",
    "update_time = 0.02 # sec (time of lag)\n",
    "\n",
    "gg = SoloMpcGaitGen(pin_robot, urdf_path, dt, gait_params, x0, plan_freq, q0)\n",
    "\n",
    "# gg.update_params(swing_wt = [1e4,1e3], cent_wt= [1e3, 1e1], nom_ht = 0.2)\n",
    "\n",
    "# while True:\n",
    "n = 1\n",
    "\n",
    "sim_t = 0.0\n",
    "step_t = 0\n",
    "sim_dt = .001\n",
    "index = 0\n",
    "\n",
    "tmp = []\n",
    "tmp_des = []\n",
    "\n",
    "# robot.robot_tsid_ctrl.set_gains(0.0, 0, 40.0, 0)"
   ]
  },
  {
   "cell_type": "code",
   "execution_count": 7,
   "metadata": {},
   "outputs": [
    {
     "data": {
      "text/html": [
       "\n",
       "            <div style=\"height: 400px; width: 100%; overflow-x: auto; overflow-y: hidden; resize: both\">\n",
       "            <iframe src=\"http://127.0.0.1:7000/static/\" style=\"width: 100%; height: 100%; border: none\"></iframe>\n",
       "            </div>\n",
       "            "
      ],
      "text/plain": [
       "<IPython.core.display.HTML object>"
      ]
     },
     "execution_count": 7,
     "metadata": {},
     "output_type": "execute_result"
    }
   ],
   "source": [
    "viz.viewer.jupyter_cell()"
   ]
  },
  {
   "cell_type": "code",
   "execution_count": 46,
   "metadata": {
    "scrolled": true
   },
   "outputs": [
    {
     "name": "stdout",
     "output_type": "stream",
     "text": [
      "cost 0.003533601760864258\n",
      "dyn 0.021178245544433594\n",
      "ik 0.006354093551635742\n",
      "total 0.031134605407714844\n",
      "------------------------\n",
      "cost 0.002356290817260742\n",
      "dyn 0.018622159957885742\n",
      "ik 0.025557279586791992\n",
      "total 0.04660654067993164\n",
      "------------------------\n",
      "cost 0.0023658275604248047\n",
      "dyn 0.018248319625854492\n",
      "ik 0.0231931209564209\n",
      "total 0.043879032135009766\n",
      "------------------------\n",
      "cost 0.0023987293243408203\n",
      "dyn 0.018634557723999023\n",
      "ik 0.013983964920043945\n",
      "total 0.03508782386779785\n",
      "------------------------\n",
      "cost 0.002745389938354492\n",
      "dyn 0.0186307430267334\n",
      "ik 0.010415792465209961\n",
      "total 0.031907081604003906\n",
      "------------------------\n",
      "cost 0.003397703170776367\n",
      "dyn 0.019240856170654297\n",
      "ik 0.00873112678527832\n",
      "total 0.03144216537475586\n",
      "------------------------\n"
     ]
    }
   ],
   "source": [
    "%matplotlib notebook \n",
    "\n",
    "q = q0\n",
    "v = v0\n",
    "step_t = 0\n",
    "n = 0\n",
    "# x_wm, f_wm = None, None\n",
    "\n",
    "for o in range(6):\n",
    "    contact_configuration = np.array([1,1,1,1])\n",
    "#     gg.update_params(X_nom=x_wm.copy())\n",
    "    xs, us, f = gg.optimize(q, v, np.round(step_t,3), v_des, gait_params.step_ht, contact_configuration)\n",
    "\n",
    "    X_opt = gg.mp.X_opt\n",
    "    F_opt = gg.mp.F_opt\n",
    "#     print(gg.cnt_plan[0:2])\n",
    "#     print(gg.cnt_plan)  \n",
    "#     print(\"------------------------------------------\")\n",
    "#     gg.plot_plan()\n",
    "#     plt.plot(x_wm[2::9])\n",
    "#     plt.show()\n",
    "    if o == 0:\n",
    "        plt_f = f[:int(plan_freq/sim_dt)]\n",
    "        plt_xs = xs[:int(plan_freq/sim_dt)]\n",
    "        plt_com = gg.com_int[:int(plan_freq/sim_dt)]\n",
    "        plt_mom = gg.mom_int[:int(plan_freq/sim_dt)]\n",
    "        \n",
    "    else:\n",
    "        plt_f = np.vstack((plt_f, f[:int(plan_freq/sim_dt)]))\n",
    "        plt_xs = np.vstack((plt_xs, xs[:int(plan_freq/sim_dt)]))\n",
    "        plt_com = np.vstack((plt_com, gg.com_int[:int(plan_freq/sim_dt)]))\n",
    "        plt_mom = np.vstack((plt_mom, gg.mom_int[:int(plan_freq/sim_dt)]))\n",
    "        \n",
    "        \n",
    "    gg.reset()\n",
    "    for ind in range(int(plan_freq/sim_dt)):\n",
    "        viz.display(xs[ind][:robot.model.nq])\n",
    "    \n",
    "    q = xs[int(plan_freq/sim_dt)-1][0:pin_robot.model.nq]\n",
    "    v = xs[int(plan_freq/sim_dt)-1][pin_robot.model.nq:]\n",
    "    step_t = (step_t + plan_freq)%gait_params.gait_period\n"
   ]
  }
 ],
 "metadata": {
  "kernelspec": {
   "display_name": "Python 3 (ipykernel)",
   "language": "python",
   "name": "python3"
  },
  "language_info": {
   "codemirror_mode": {
    "name": "ipython",
    "version": 3
   },
   "file_extension": ".py",
   "mimetype": "text/x-python",
   "name": "python",
   "nbconvert_exporter": "python",
   "pygments_lexer": "ipython3",
   "version": "3.8.10"
  }
 },
 "nbformat": 4,
 "nbformat_minor": 4
}
