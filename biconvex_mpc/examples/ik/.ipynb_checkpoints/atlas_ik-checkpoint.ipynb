{
 "cells": [
  {
   "cell_type": "code",
   "execution_count": 26,
   "id": "789a7a07",
   "metadata": {},
   "outputs": [],
   "source": [
    "## This is demo for the inverse kinematics C++ version\n",
    "## Author : Avadesh Meduri\n",
    "## Date : 22/04/2021\n",
    "\n",
    "import time\n",
    "import numpy as np\n",
    "from py_biconvex_mpc.ik.inverse_kinematics import InverseKinematics\n",
    "from robot_properties_atlas.config import AtlasConfig\n",
    "from py_biconvex_mpc.ik_utils.abstract_gait_generator import AbstractGaitGenerator\n",
    "\n",
    "import pinocchio as pin\n",
    "\n"
   ]
  },
  {
   "cell_type": "code",
   "execution_count": 9,
   "id": "471149b2",
   "metadata": {},
   "outputs": [
    {
     "name": "stdout",
     "output_type": "stream",
     "text": [
      "You can open the visualizer by visiting the following URL:\n",
      "http://127.0.0.1:7002/static/\n"
     ]
    }
   ],
   "source": [
    "robot = AtlasConfig.buildRobotWrapper()\n",
    "rmodel = robot.model\n",
    "rdata = robot.data\n",
    "viz = pin.visualize.MeshcatVisualizer(robot.model, robot.collision_model, robot.visual_model)\n",
    "viz.initViewer(open=True)\n",
    "viz.loadViewerModel()"
   ]
  },
  {
   "cell_type": "code",
   "execution_count": 139,
   "id": "0675e3a8",
   "metadata": {},
   "outputs": [],
   "source": [
    "dt = 5e-2\n",
    "T = 5\n",
    "\n",
    "q0 = np.array([ 0.0, 0.0, 0.9, #base\n",
    "                0.0, 0.0, 0.0, 1.0, #base quaternion\n",
    "                0.0, #hip yaw\n",
    "                0.0487, #hip forward/backward\n",
    "                0.0, #hip tilt\n",
    "                0.0, -1.2, 0.0, 0.0, 0.0, 0.0, 0.0, #left arm\n",
    "                0.0, 1.2, 0.0, 0.0, 0.0, 0.0, 0.0, #right arm\n",
    "                0.0, 0.0, 0.0, #left hip abductors\n",
    "                0.0, 0.0, 0.0, #left knee, ankle tilt fwd, ankle tilt side\n",
    "                0.0, 0.0, 0.0, #right hip abductors\n",
    "                0.0, 0.0, 0.0]) #right knee, right ankle tilt fwd, right ankle tilt side;\n",
    "v = np.zeros(rmodel.nv)\n",
    "x0 = np.concatenate([q0, np.zeros(rmodel.nv)])\n",
    "\n",
    "stateWeights = np.array([0.] * 3 + [50.] * 3 + [0.01] * (rmodel.nv - 6) \\\n",
    "                        + [10.] * 6 + [1.0] *(rmodel.nv - 6))\n",
    "\n",
    "# print(robot.model.nq, robot.model.nv)\n",
    "\n",
    "des_pos_left = np.tile(np.array([0.0,   0.1115,  0]), (int(T/dt),1))\n",
    "des_pos_right = np.tile(np.array([0.0,   -0.1115,  0]), (int(T/dt),1))\n",
    "\n",
    "des_vel_left = np.tile(np.array([0.,   0,  0]), (int(T/dt),1))\n",
    "des_vel_right = np.tile(np.array([0.,   -0,  0]), (int(T/dt),1))\n",
    "\n",
    "des_com_pos = np.tile(np.array([0.,   0,  1.2]), (int(T/dt),1))\n",
    "des_com_pos[:,0] = 0.1*np.linspace(0, len(des_com_pos), len(des_com_pos))\n",
    "\n",
    "des_mom = np.tile(np.array([0.,   0,  0.0, 0, 0, 0]), (int(T/dt),1))\n",
    "des_mom[:,0] = 0.1\n",
    "\n",
    "sl = np.array([0.5, 0, 0])\n",
    "st = 0.5\n",
    "\n",
    "gg = AbstractGaitGenerator(rmodel, rdata, AtlasConfig.urdf_path, T, dt)\n",
    "gg.create_swing_foot_task(des_pos_left[0], des_pos_left[0] + sl, 0, st, 0.1, \"l_foot\", \"L_step\", 1e3)\n",
    "gg.create_contact_task(des_pos_right[0], 0, st, \"r_foot\", \"R_step\", 1e5)\n",
    "gg.create_contact_task(des_pos_left[0] + sl, st, T, \"l_foot\", \"L_step\", 1e5)\n",
    "gg.create_swing_foot_task(des_pos_right[0], des_pos_right[0] + 2*sl, st, 2*st, 0.1, \"r_foot\", \"R_step\", 1e3)\n",
    "gg.create_contact_task(des_pos_right[0] + 2*sl, 2*st , T, \"r_foot\", \"R_step\", 1e5)\n",
    "\n",
    "# gg.create_centroidal_task(des_mom, 0, T, \"mom track\", 1e1)\n",
    "\n",
    "xs, us = gg.optimize(x0, stateWeights, x0, wt_xreg=5e-4, wt_ureg=1e-5)\n",
    "# np.savez(\"../motion_planner/dat_file/ik\", xs = xs)\n"
   ]
  },
  {
   "cell_type": "code",
   "execution_count": null,
   "id": "199cf54e",
   "metadata": {},
   "outputs": [],
   "source": [
    "for i in range(len(xs)):\n",
    "    time.sleep(0.06)\n",
    "    viz.display(xs[i][:rmodel.nq])"
   ]
  }
 ],
 "metadata": {
  "kernelspec": {
   "display_name": "Python 3 (ipykernel)",
   "language": "python",
   "name": "python3"
  },
  "language_info": {
   "codemirror_mode": {
    "name": "ipython",
    "version": 3
   },
   "file_extension": ".py",
   "mimetype": "text/x-python",
   "name": "python",
   "nbconvert_exporter": "python",
   "pygments_lexer": "ipython3",
   "version": "3.8.10"
  }
 },
 "nbformat": 4,
 "nbformat_minor": 5
}
